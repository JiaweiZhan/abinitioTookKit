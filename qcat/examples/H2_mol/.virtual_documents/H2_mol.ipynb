import density2AO
import numpy as np
from matplotlib import pyplot as plt
get_ipython().run_line_magic("matplotlib", " inline")
get_ipython().run_line_magic("config", " InlineBackend.figure_format='retina'")


df = density2AO.DF("./rho.cube")


coeff = df.compute_coeff()


RI_density = df.f_density
QM_density = df.o_density
print(f"MAPE: {density2AO.error(RI_density, QM_density) * 100: 5.2f}%")


plt.plot(np.mean(RI_density, axis=(0, 1)), label='RI')
plt.plot(np.mean(QM_density, axis=(0, 1)), '--', label='QM')
plt.legend()
plt.show()



